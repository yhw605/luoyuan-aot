{
 "cells": [
  {
   "cell_type": "code",
   "execution_count": 1,
   "metadata": {},
   "outputs": [
    {
     "name": "stdout",
     "output_type": "stream",
     "text": [
      "MOD021KM.A2011181.0325.061.2017324101641_5cloud-clip22.tif clipped!\n",
      "MOD021KM.A2012182.0200.061.2017334143411_5cloud-clip22.tif clipped!\n",
      "MOD021KM.A2013181.0305.061.2017299063350_5cloud-clip22.tif clipped!\n",
      "MOD021KM.A2014181.0235.061.2017312140235_5cloud-clip22.tif clipped!\n",
      "MOD021KM.A2016182.0220.061.2017326170448_5cloud-clip22.tif clipped!\n",
      "MOD021KM.A2017181.0325.061.2017315065028_5cloud-clip22.tif clipped!\n",
      "MOD021KM.A2018181.0255.061.2018181133528_5cloud-clip22.tif clipped!\n",
      "MOD021KM.A2019181.0225.061.2019181131027_5cloud-clip22.tif clipped!\n"
     ]
    }
   ],
   "source": [
    "# https://zhuanlan.zhihu.com/p/596897568\n",
    "import rasterio\n",
    "from rasterio.mask import mask\n",
    "import fiona\n",
    "import os\n",
    "\n",
    "folder_path = \"./aot550/\"\n",
    "shp = fiona.open(\"./shp-data/luoyuan.shp\", \"r\", encoding=\"utf-8\")\n",
    "geoms = [feature[\"geometry\"] for feature in shp]\n",
    "for fname in os.listdir(folder_path):\n",
    "    if fname[-4:] != \".tif\": #or fname.find(\"A2019\") != -1: # 2019年似乎也出了问题\n",
    "        continue\n",
    "    with rasterio.open(folder_path + fname) as src:\n",
    "        out_img, out_trans = mask(src, geoms, crop=True)\n",
    "        out_meta = src.meta.copy()\n",
    "    out_meta.update({\"driver\": \"GTiff\",\n",
    "                     \"height\": out_img.shape[1],\n",
    "                     \"width\": out_img.shape[2],\n",
    "                     \"transform\": out_trans})\n",
    "    with rasterio.open(\"./clipped/\"+fname[:-4]+\"clipped.tif\", \n",
    "                       \"w\", **out_meta) as dest:\n",
    "        dest.write(out_img)\n",
    "    print(fname + \" clipped!\")"
   ]
  },
  {
   "cell_type": "code",
   "execution_count": 2,
   "metadata": {},
   "outputs": [
    {
     "name": "stdout",
     "output_type": "stream",
     "text": [
      "MOD021KM.A2011181.0325.061.2017324101641_16.tif clipped!\n",
      "MOD021KM.A2011181.0325.061.2017324101641_17.tif clipped!\n",
      "MOD021KM.A2011181.0325.061.2017324101641_18.tif clipped!\n",
      "MOD021KM.A2011181.0325.061.2017324101641_19.tif clipped!\n",
      "MOD021KM.A2012182.0200.061.2017334143411_16.tif clipped!\n",
      "MOD021KM.A2012182.0200.061.2017334143411_17.tif clipped!\n",
      "MOD021KM.A2012182.0200.061.2017334143411_18.tif clipped!\n",
      "MOD021KM.A2012182.0200.061.2017334143411_19.tif clipped!\n",
      "MOD021KM.A2013181.0305.061.2017299063350_16.tif clipped!\n",
      "MOD021KM.A2013181.0305.061.2017299063350_17.tif clipped!\n",
      "MOD021KM.A2013181.0305.061.2017299063350_18.tif clipped!\n",
      "MOD021KM.A2013181.0305.061.2017299063350_19.tif clipped!\n",
      "MOD021KM.A2014181.0235.061.2017312140235_16.tif clipped!\n",
      "MOD021KM.A2014181.0235.061.2017312140235_17.tif clipped!\n",
      "MOD021KM.A2014181.0235.061.2017312140235_18.tif clipped!\n",
      "MOD021KM.A2014181.0235.061.2017312140235_19.tif clipped!\n",
      "MOD021KM.A2016182.0220.061.2017326170448_16.tif clipped!\n",
      "MOD021KM.A2016182.0220.061.2017326170448_17.tif clipped!\n",
      "MOD021KM.A2016182.0220.061.2017326170448_18.tif clipped!\n",
      "MOD021KM.A2016182.0220.061.2017326170448_19.tif clipped!\n",
      "MOD021KM.A2017181.0325.061.2017315065028_16.tif clipped!\n",
      "MOD021KM.A2017181.0325.061.2017315065028_17.tif clipped!\n",
      "MOD021KM.A2017181.0325.061.2017315065028_18.tif clipped!\n",
      "MOD021KM.A2017181.0325.061.2017315065028_19.tif clipped!\n",
      "MOD021KM.A2018181.0255.061.2018181133528_16.tif clipped!\n",
      "MOD021KM.A2018181.0255.061.2018181133528_17.tif clipped!\n",
      "MOD021KM.A2018181.0255.061.2018181133528_18.tif clipped!\n",
      "MOD021KM.A2018181.0255.061.2018181133528_19.tif clipped!\n",
      "MOD021KM.A2019181.0225.061.2019181131027_16.tif clipped!\n",
      "MOD021KM.A2019181.0225.061.2019181131027_17.tif clipped!\n",
      "MOD021KM.A2019181.0225.061.2019181131027_18.tif clipped!\n",
      "MOD021KM.A2019181.0225.061.2019181131027_19.tif clipped!\n"
     ]
    }
   ],
   "source": [
    "\n",
    "folder_path = \"./hdf-output/\"\n",
    "shp = fiona.open(\"./shp-data/luoyuan.shp\", \"r\", encoding=\"utf-8\")\n",
    "geoms = [feature[\"geometry\"] for feature in shp]\n",
    "for fname in os.listdir(folder_path):\n",
    "    if fname[-4:] != \".tif\" or fname[-7:-4] not in [\n",
    "        \"_16\",\"_17\",\"_18\",\"_19\"] or fname.find(\n",
    "            \"A2015\") != -1 or fname.find(\"A2012182.0335\") != -1:\n",
    "        #print(fname[-7:-4])\n",
    "        continue\n",
    "    with rasterio.open(folder_path + fname) as src:\n",
    "        out_img, out_trans = mask(src, geoms, crop=True)\n",
    "        out_meta = src.meta.copy()\n",
    "    out_meta.update({\"driver\": \"GTiff\",\n",
    "                     \"height\": out_img.shape[1],\n",
    "                     \"width\": out_img.shape[2],\n",
    "                     \"transform\": out_trans})\n",
    "    with rasterio.open(\"./hdf-out-clip/\"+fname[:-4]+\"clipped.tif\", \n",
    "                       \"w\", **out_meta) as dest:\n",
    "        dest.write(out_img)\n",
    "    print(fname + \" clipped!\")"
   ]
  }
 ],
 "metadata": {
  "kernelspec": {
   "display_name": "Python 3",
   "language": "python",
   "name": "python3"
  },
  "language_info": {
   "codemirror_mode": {
    "name": "ipython",
    "version": 3
   },
   "file_extension": ".py",
   "mimetype": "text/x-python",
   "name": "python",
   "nbconvert_exporter": "python",
   "pygments_lexer": "ipython3",
   "version": "3.10.9"
  }
 },
 "nbformat": 4,
 "nbformat_minor": 2
}
